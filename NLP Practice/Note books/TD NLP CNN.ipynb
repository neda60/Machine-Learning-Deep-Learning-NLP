{
 "cells": [
  {
   "cell_type": "code",
   "execution_count": 1,
   "metadata": {},
   "outputs": [
    {
     "name": "stderr",
     "output_type": "stream",
     "text": [
      "C:\\ProgramData\\Anaconda3\\lib\\site-packages\\h5py\\__init__.py:36: FutureWarning: Conversion of the second argument of issubdtype from `float` to `np.floating` is deprecated. In future, it will be treated as `np.float64 == np.dtype(float).type`.\n",
      "  from ._conv import register_converters as _register_converters\n"
     ]
    }
   ],
   "source": [
    "import nltk\n",
    "import os\n",
    "import shutil\n",
    "import logging\n",
    "import re\n",
    "import string\n",
    "import numpy as np\n",
    "import argparse\n",
    "from datetime import datetime\n",
    "from sklearn.metrics import roc_curve, auc\n",
    "from sklearn.model_selection import train_test_split\n",
    "import matplotlib.pyplot as plt\n",
    "from tensorflow.keras.preprocessing.text import Tokenizer\n",
    "from tensorflow.keras.preprocessing.sequence import pad_sequences\n",
    "from tensorflow.keras.layers import Input, concatenate\n",
    "from tensorflow.keras.layers import Embedding\n",
    "from tensorflow.keras.models import Sequential, Model\n",
    "from tensorflow.keras.layers import (Dense, Conv1D, MaxPool1D,\n",
    "                                     UpSampling1D, Flatten, Reshape, Dropout)\n",
    "from tensorflow.keras.callbacks import TensorBoard\n",
    "import pandas as pd"
   ]
  },
  {
   "cell_type": "code",
   "execution_count": 2,
   "metadata": {
    "collapsed": true
   },
   "outputs": [],
   "source": [
    "def clean_sent(text):\n",
    "    \"\"\" Function for Cleaning Text \"\"\"\n",
    "    text = re.sub('<[^>]*>', '', text)\n",
    "    text = re.sub('_', '', text)\n",
    "    emoticons = re.findall('(?::|;|=)(?:-)?(?:\\)|\\(|D|P)',\n",
    "                           text)\n",
    "    text = (re.sub('[\\W]+', ' ', text.lower()) +\n",
    "            ' '.join(emoticons).replace('-', ''))\n",
    "    return text"
   ]
  },
  {
   "cell_type": "code",
   "execution_count": 3,
   "metadata": {
    "collapsed": true
   },
   "outputs": [],
   "source": [
    "#### Function for importing files and cleaning\n",
    "def import_and_clean_data(data_dir):\n",
    "    \"\"\" Import Data, Extract Sentences, Clean and Label \"\"\"\n",
    "    df_label = pd.read_csv(os.path.join(data_dir, 'labels_Candidate.csv'), encoding='utf-8', header= None)    \n",
    "    df_train = pd.read_csv(os.path.join(data_dir, 'train.txt'), encoding = \"ISO-8859-1\", sep=',', header= None)\n",
    "    ### calculate the maximum sentence length\n",
    "\n",
    "\n",
    "    # Renaming column names\n",
    "    df_train.rename(columns =  {0: \"id\" ,2: \"comments\"}, inplace = True) \n",
    "    df_label.rename(columns =  {0: \"id\" ,1: \"lbl\"}, inplace = True)\n",
    "\n",
    "    max_lenght= max(df_train[1]) \n",
    "\n",
    "    # joining the words to generate sentences for each comment\n",
    "    df = df_train.groupby([\"id\"])[\"comments\"].agg(lambda x: str(' '.join(x)))\n",
    "    df = pd.DataFrame({'id':df.index, 'lbl':df.values})\n",
    "\n",
    "\n",
    "    # merge dataframes to keep existing comments with labels\n",
    "    merged = pd.merge(left=df,right=df_label, how='left', left_on='id', right_on='id')\n",
    "\n",
    "    merged = pd.DataFrame({'comment':merged[\"lbl_x\"], 'lbl':merged[\"lbl_y\"]})\n",
    "\n",
    "    # finding number of labels to check if data is biased or not\n",
    "    print(merged.groupby(\"lbl\").count())\n",
    "    #\n",
    "    merged.sort_values(by=['lbl'])\n",
    "    #\n",
    "\n",
    "    sentences = merged[\"comment\"]\n",
    "    sents_clean = [clean_sent(sent) for sent in sentences if len(sent.strip())>0]\n",
    "\n",
    "   \n",
    "    x_raw = np.array(sents_clean)\n",
    "    y = np.array(merged[\"lbl\"])\n",
    "    return x_raw, y, max_lenght"
   ]
  },
  {
   "cell_type": "code",
   "execution_count": 4,
   "metadata": {
    "collapsed": true
   },
   "outputs": [],
   "source": [
    "# fit a tokenizer\n",
    "def create_tokenizer(lines):\n",
    "    tokenizer = Tokenizer()\n",
    "    tokenizer.fit_on_texts(lines)\n",
    "    return tokenizer"
   ]
  },
  {
   "cell_type": "code",
   "execution_count": 5,
   "metadata": {
    "collapsed": true
   },
   "outputs": [],
   "source": [
    "# encode a list of lines\n",
    "def encode_text(tokenizer, lines, length):\n",
    "    # integer encode\n",
    "    encoded = tokenizer.texts_to_sequences(lines)\n",
    "    # pad encoded sequences\n",
    "    padded = pad_sequences(encoded, maxlen=length, padding='post')\n",
    "    return padded"
   ]
  },
  {
   "cell_type": "code",
   "execution_count": 6,
   "metadata": {
    "collapsed": true
   },
   "outputs": [],
   "source": [
    "\n",
    "# define the model\n",
    "def define_model(length, vocab_size):\n",
    "    # channel 1\n",
    "    inputs1 = Input(shape=(length,))\n",
    "    embedding1 = Embedding(vocab_size, 100)(inputs1)\n",
    "    conv1 = Conv1D(filters=32, kernel_size=4, activation='relu')(embedding1)\n",
    "    drop1 = Dropout(0.5)(conv1)\n",
    "    pool1 = MaxPool1D(pool_size=2)(drop1)\n",
    "    flat1 = Flatten()(pool1)\n",
    "    # channel 2\n",
    "    inputs2 = Input(shape=(length,))\n",
    "    embedding2 = Embedding(vocab_size, 100)(inputs2)\n",
    "    conv2 = Conv1D(filters=32, kernel_size=6, activation='relu')(embedding2)\n",
    "    drop2 = Dropout(0.5)(conv2)\n",
    "    pool2 = MaxPool1D(pool_size=2)(drop2)\n",
    "    flat2 = Flatten()(pool2)\n",
    "    # channel 3\n",
    "    inputs3 = Input(shape=(length,))\n",
    "    embedding3 = Embedding(vocab_size, 100)(inputs3)\n",
    "    conv3 = Conv1D(filters=32, kernel_size=8, activation='relu')(embedding3)\n",
    "    drop3 = Dropout(0.5)(conv3)\n",
    "    pool3 = MaxPool1D(pool_size=2)(drop3)\n",
    "    flat3 = Flatten()(pool3)\n",
    "    # merge\n",
    "    merged = concatenate([flat1, flat2, flat3])\n",
    "    # interpretation\n",
    "    dense1 = Dense(10, activation='relu')(merged)\n",
    "    outputs = Dense(1, activation='softmax')(dense1)\n",
    "    model = Model(inputs=[inputs1, inputs2, inputs3], outputs=outputs)\n",
    "    # compile\n",
    "    model.compile(\n",
    "        loss='binary_crossentropy',\n",
    "        optimizer='adam',\n",
    "        metrics=['accuracy']\n",
    "    )\n",
    "    return model"
   ]
  },
  {
   "cell_type": "code",
   "execution_count": 7,
   "metadata": {
    "collapsed": true
   },
   "outputs": [],
   "source": [
    "\n",
    "def plot_roc_curv(fpr, tpr, auc_val, method='RF'):\n",
    "    \"\"\" plot ROC curve given tpr and fpr data\"\"\"\n",
    "    plt.figure(figsize=(15, 10))\n",
    "    plt.plot([0, 1], [0, 1], 'k--')\n",
    "    plt.plot(fpr, tpr, label=method)\n",
    "    plt.xlabel('False positive rate')\n",
    "    plt.ylabel('True positive rate')\n",
    "    plt.title(f'ROC curve --- AUC = {auc_val:2.2}')\n",
    "    plt.legend(loc='best')\n",
    "    return"
   ]
  },
  {
   "cell_type": "code",
   "execution_count": 8,
   "metadata": {
    "collapsed": true
   },
   "outputs": [],
   "source": [
    "\n",
    "def main():\n",
    "    # shuffle x and y and split into train and test datasets, take first 4000 rows for both training and testing\n",
    "    x_raw, y, length = import_and_clean_data(data_dir)\n",
    "\n",
    "    x_train, x_test, y_train, y_test = train_test_split(\n",
    "        x_raw[:4000], y[:4000], test_size=0.2,\n",
    "        random_state=1,\n",
    "        shuffle=True\n",
    "    )\n",
    "\n",
    "    x_train, x_val, y_train, y_val = train_test_split(\n",
    "        x_train, y_train, test_size=0.1,\n",
    "        random_state=1,\n",
    "        shuffle=True\n",
    "    )\n",
    "\n",
    "    # create tokenizer\n",
    "    tokenizer = create_tokenizer(x_train)\n",
    "    # calculate vocabulary size\n",
    "    vocab_size = len(tokenizer.word_index) + 1\n",
    "    # encode data\n",
    "    padded_train = encode_text(tokenizer, x_train, length)\n",
    "    padded_val = encode_text(tokenizer, x_val, length)\n",
    "\n",
    "    # define model\n",
    "    model = define_model(length, vocab_size)\n",
    "\n",
    "    # Create a TensorBoard instance with the path to the logs directory\n",
    "#     tensorboard = TensorBoard(\n",
    "#         log_dir=os.path.join(\n",
    "#             log_dir, f'{datetime.now()}')\n",
    "#     )\n",
    "    # fit model\n",
    "    model.fit(\n",
    "        [padded_train, padded_train, padded_train],\n",
    "        np.array(y_train),\n",
    "        epochs=1,\n",
    "        batch_size=16,\n",
    "        validation_data=([padded_val, padded_val, padded_val], y_val),\n",
    "        verbose=0 ) #callbacks=[tensorboard],\n",
    "        \n",
    "    # save the model\n",
    "    model.save(os.path.join(models_dir, 'multi_scale_cnn.h5'))\n",
    "\n",
    "    # encode data\n",
    "    padded_test = encode_text(tokenizer, x_test, length)\n",
    "\n",
    "    # evaluate model\n",
    "    y_pred = model.predict([padded_test, padded_test, padded_test])\n",
    "    fpr, tpr, _ = roc_curve(y_test, y_pred)\n",
    "    auc_dl = np.float32(auc(fpr, tpr))\n",
    "    plot_roc_curv(fpr, tpr, auc_dl, method='Multiscale CNN')\n",
    "    plt.savefig(os.path.join(save_dir, 'roc_curve_multiscale_cnn.jpg'))\n",
    "    \n",
    "    #### Now preddicting the unlabled data!\n",
    "    padded_test_unlabelled = encode_text(tokenizer, x_raw[4000:], length)\n",
    "    y_pred_unlabelled = model.predict([padded_test_unlabelled, padded_test_unlabelled, padded_test_unlabelled])\n",
    "    # writing prediction to file\n",
    "    #print(y_pred_unlabelled)\n",
    "    df = pd.DataFrame(y_pred_unlabelled)\n",
    "    df.to_csv(os.path.join(predictions_dir, 'multi_scale_cnn.csv'),index=False)\n",
    "    "
   ]
  },
  {
   "cell_type": "code",
   "execution_count": 11,
   "metadata": {},
   "outputs": [
    {
     "name": "stdout",
     "output_type": "stream",
     "text": [
      "     comment\n",
      "lbl         \n",
      "0.0     3464\n",
      "1.0      535\n"
     ]
    },
    {
     "name": "stderr",
     "output_type": "stream",
     "text": [
      "C:\\ProgramData\\Anaconda3\\lib\\site-packages\\tensorflow\\python\\ops\\gradients_impl.py:108: UserWarning: Converting sparse IndexedSlices to a dense Tensor of unknown shape. This may consume a large amount of memory.\n",
      "  \"Converting sparse IndexedSlices to a dense Tensor of unknown shape. \"\n"
     ]
    },
    {
     "name": "stdout",
     "output_type": "stream",
     "text": [
      "[[1.]\n",
      " [1.]\n",
      " [1.]\n",
      " ...\n",
      " [1.]\n",
      " [1.]\n",
      " [1.]]\n"
     ]
    }
   ],
   "source": [
    "\n",
    "if __name__ == '__main__':\n",
    "\n",
    "    data_dir = r'TD\\\\'\n",
    "    os.makedirs(\n",
    "        os.path.join(\n",
    "            data_dir,\n",
    "            'proccessed_data'\n",
    "        ),\n",
    "        exist_ok=True\n",
    "    )\n",
    "    save_dir = os.path.join(data_dir, 'proccessed_data')\n",
    "    os.makedirs(\n",
    "        os.path.join(\n",
    "            data_dir,\n",
    "            'logs'\n",
    "        ),\n",
    "        exist_ok=True\n",
    "    )\n",
    "    log_dir = os.path.join(data_dir, 'logs')\n",
    "    os.makedirs(\n",
    "        os.path.join(\n",
    "            data_dir,\n",
    "            'saved_models'\n",
    "        ),\n",
    "        exist_ok=True)\n",
    "    models_dir = os.path.join(data_dir, 'saved_models')\n",
    "    \n",
    "    os.makedirs(\n",
    "        os.path.join(\n",
    "            data_dir,\n",
    "            'predicted_results'\n",
    "        ),\n",
    "        exist_ok=True)\n",
    "    predictions_dir = os.path.join(data_dir, 'predicted_results')\n",
    "    # setup logging\n",
    "    logging.basicConfig(\n",
    "        filename=os.path.join(\n",
    "            log_dir, 'rf.log'\n",
    "        ),\n",
    "        level=logging.INFO\n",
    "    )\n",
    "    logger = logging.getLogger('cnn_model')\n",
    "    try:\n",
    "        shutil.rmtree(\n",
    "            os.path.join(\n",
    "                log_dir, os.listdir(log_dir)[0]\n",
    "            )\n",
    "        )\n",
    "    except:\n",
    "        logger.warning('File doesnt exist')\n",
    "\n",
    "    # run main\n",
    "    main()\n"
   ]
  },
  {
   "cell_type": "code",
   "execution_count": null,
   "metadata": {
    "collapsed": true
   },
   "outputs": [],
   "source": []
  }
 ],
 "metadata": {
  "kernelspec": {
   "display_name": "Python 3",
   "language": "python",
   "name": "python3"
  },
  "language_info": {
   "codemirror_mode": {
    "name": "ipython",
    "version": 3
   },
   "file_extension": ".py",
   "mimetype": "text/x-python",
   "name": "python",
   "nbconvert_exporter": "python",
   "pygments_lexer": "ipython3",
   "version": "3.6.5"
  }
 },
 "nbformat": 4,
 "nbformat_minor": 2
}
